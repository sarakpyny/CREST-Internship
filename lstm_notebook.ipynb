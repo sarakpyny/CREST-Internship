{
 "cells": [
  {
   "cell_type": "markdown",
   "id": "43bc36b6",
   "metadata": {},
   "source": [
    "# Understanding LSTM Networks"
   ]
  },
  {
   "cell_type": "markdown",
   "id": "7ece96d4",
   "metadata": {},
   "source": [
    "## Recurrent Neural Networks\n",
    "\n",
    "Humans don’t start their thinking from scratch every second. As you read this essay, you understand each word based on your understanding of previous words. You don’t throw everything away and start thinking from scratch again. Your thoughts have persistence.\n",
    "\n",
    "Traditional neural networks can’t do this, and it seems like a major shortcoming. For example, imagine you want to classify what kind of event is happening at every point in a movie. It’s unclear how a traditional neural network could use its reasoning about previous events in the film to inform later ones.\n",
    "\n",
    "Recurrent neural networks address this issue. They are networks with loops in them, allowing information to persist."
   ]
  },
  {
   "cell_type": "markdown",
   "id": "78ad239e",
   "metadata": {},
   "source": [
    "<p align=\"center\">\n",
    "  <img src=\"https://raw.githubusercontent.com/sarakpyny/CREST-Internship/main/img/lstm/RNN-rolled.png\" width=\"150\"/>\n",
    "  <br>\n",
    "  <em>Recurrent Neural Networks have loops</em>\n",
    "</p>\n"
   ]
  },
  {
   "cell_type": "markdown",
   "id": "ce5f53b1",
   "metadata": {},
   "source": [
    "In the above diagram, a chunk of neural network, **A**, looks at some input $x_t$ and outputs a value $h_t$. A loop allows information to be passed from one step of the network to the next.\n",
    "\n",
    "These loops make recurrent neural networks seem kind of mysterious. However, if you think a bit more, it turns out that they aren’t all that different than a normal neural network. A recurrent neural network can be thought of as multiple copies of the same network, each passing a message to a successor. Consider what happens if we unroll the loop:"
   ]
  },
  {
   "cell_type": "markdown",
   "id": "712cf124",
   "metadata": {},
   "source": [
    "<p align=\"center\">\n",
    "  <img src=\"https://raw.githubusercontent.com/sarakpyny/CREST-Internship/main/img/lstm/RNN-unrolled.png\" width=\"700\"/>\n",
    "  <br>\n",
    "  <em>An unrolled recurrent neural network</em>\n",
    "</p>"
   ]
  },
  {
   "cell_type": "markdown",
   "id": "5620fab8",
   "metadata": {},
   "source": [
    "This chain-like nature reveals that recurrent neural networks are intimately related to sequences and lists. They’re the natural architecture of neural network to use for such data.\n",
    "\n",
    "And they certainly are used! In the last few years, there have been incredible success applying RNNs to a variety of problems: speech recognition, language modeling, translation, image captioning… The list goes on. I’ll leave discussion of the amazing feats one can achieve with RNNs to Andrej Karpathy’s excellent blog post, The Unreasonable Effectiveness of Recurrent Neural Networks. But they really are pretty amazing.\n",
    "\n",
    "Essential to these successes is the use of “LSTMs,” a very special kind of recurrent neural network which works, for many tasks, much much better than the standard version. Almost all exciting results based on recurrent neural networks are achieved with them. It’s these LSTMs that this essay will explore."
   ]
  },
  {
   "cell_type": "markdown",
   "id": "2b54c87f",
   "metadata": {},
   "source": [
    "## The Problem of Long-Term Dependencies\n",
    "\n",
    "One of the appeals of RNNs is the idea that they might be able to connect previous information to the present task, such as using previous video frames might inform the understanding of the present frame. If RNNs could do this, they’d be extremely useful. But can they? It depends.\n",
    "\n",
    "Sometimes, we only need to look at recent information to perform the present task. For example, consider a language model trying to predict the next word based on the previous ones. If we are trying to predict the last word in “the clouds are in the **sky**,” we don’t need any further context – it’s pretty obvious the next word is going to be **sky**. In such cases, where the gap between the relevant information and the place that it’s needed is small, RNNs can learn to use the past information."
   ]
  },
  {
   "cell_type": "markdown",
   "id": "b32077c9",
   "metadata": {},
   "source": [
    "<p align=\"center\">\n",
    "  <img src=\"https://raw.githubusercontent.com/sarakpyny/CREST-Internship/main/img/lstm/RNN-shorttermdepdencies.png\" width=\"500\"/>\n",
    "  <br>\n",
    "</p>"
   ]
  },
  {
   "cell_type": "markdown",
   "id": "312fab1b",
   "metadata": {},
   "source": [
    "But there are also cases where we need more context. Consider trying to predict the last word in the text “I grew up in France… I speak fluent **French**.” Recent information suggests that the next word is probably the name of a language, but if we want to narrow down which language, we need the context of France, from further back. It’s entirely possible for the gap between the relevant information and the point where it is needed to become very large.\n",
    "\n",
    "Unfortunately, as that gap grows, RNNs become unable to learn to connect the information."
   ]
  },
  {
   "cell_type": "markdown",
   "id": "616d4a02",
   "metadata": {},
   "source": [
    "<p align=\"center\">\n",
    "  <img src=\"https://raw.githubusercontent.com/sarakpyny/CREST-Internship/main/img/lstm/RNN-longtermdependencies.png\" width=\"600\"/>\n",
    "  <br>\n",
    "</p>"
   ]
  },
  {
   "cell_type": "markdown",
   "id": "2defba82",
   "metadata": {},
   "source": [
    "In theory, RNNs are absolutely capable of handling such “long-term dependencies.” A human could carefully pick parameters for them to solve toy problems of this form. Sadly, in practice, RNNs don’t seem to be able to learn them. The problem was explored in depth by Hochreiter (1991) [German] and Bengio, et al. (1994), who found some pretty fundamental reasons why it might be difficult.\n",
    "\n",
    "Thankfully, LSTMs don’t have this problem!"
   ]
  },
  {
   "cell_type": "markdown",
   "id": "76719f22",
   "metadata": {},
   "source": [
    "## LSTM Networks\n",
    "\n",
    "Long Short Term Memory networks – usually just called “LSTMs” – are a special kind of RNN, capable of learning long-term dependencies. They were introduced by Hochreiter & Schmidhuber (1997), and were refined and popularized by many people in following work.1 They work tremendously well on a large variety of problems, and are now widely used.\n",
    "\n",
    "LSTMs are explicitly designed to avoid the long-term dependency problem. Remembering information for long periods of time is practically their default behavior, not something they struggle to learn!\n",
    "\n",
    "All recurrent neural networks have the form of a chain of repeating modules of neural network. In standard RNNs, this repeating module will have a very simple structure, such as a single tanh layer."
   ]
  },
  {
   "cell_type": "markdown",
   "id": "d313b3ea",
   "metadata": {},
   "source": [
    "<p align=\"center\">\n",
    "  <img src=\"https://raw.githubusercontent.com/sarakpyny/CREST-Internship/main/img/lstm/LSTM3-SimpleRNN.png\" width=\"700\"/>\n",
    "  <br>\n",
    "  <em>The repeating module in a standard RNN contains a single layer</em>\n",
    "</p>"
   ]
  },
  {
   "cell_type": "markdown",
   "id": "8b21c452",
   "metadata": {},
   "source": [
    "LSTMs also have this chain like structure, but the repeating module has a different structure. Instead of having a single neural network layer, there are four, interacting in a very special way."
   ]
  },
  {
   "cell_type": "markdown",
   "id": "87a4b8da",
   "metadata": {},
   "source": [
    "<p align=\"center\">\n",
    "  <img src=\"https://raw.githubusercontent.com/sarakpyny/CREST-Internship/main/img/lstm/LSTM3-chain.png\" width=\"700\"/>\n",
    "  <br>\n",
    "  <em>The repeating module in an LSTM contains four interacting layers</em>\n",
    "</p>"
   ]
  },
  {
   "cell_type": "markdown",
   "id": "768900bd",
   "metadata": {},
   "source": [
    "Don’t worry about the details of what’s going on. We’ll walk through the LSTM diagram step by step later. For now, let’s just try to get comfortable with the notation we’ll be using."
   ]
  },
  {
   "cell_type": "markdown",
   "id": "c0332041",
   "metadata": {},
   "source": [
    "<p align=\"center\">\n",
    "  <img src=\"https://raw.githubusercontent.com/sarakpyny/CREST-Internship/main/img/lstm/LSTM2-notation.png\" width=\"700\"/>\n",
    "  <br>\n",
    "</p>"
   ]
  },
  {
   "cell_type": "markdown",
   "id": "4d885ed1",
   "metadata": {},
   "source": [
    "In the above diagram, each line carries an entire vector, from the output of one node to the inputs of others. The pink circles represent pointwise operations, like vector addition, while the yellow boxes are learned neural network layers. Lines merging denote concatenation, while a line forking denote its content being copied and the copies going to different locations."
   ]
  },
  {
   "cell_type": "markdown",
   "id": "bc89d024",
   "metadata": {},
   "source": [
    "## The Core Idea Behind LSTMs\n",
    "\n",
    "The key to LSTMs is the cell state, the horizontal line running through the top of the diagram.\n",
    "\n",
    "The cell state is kind of like a conveyor belt. It runs straight down the entire chain, with only some minor linear interactions. It’s very easy for information to just flow along it unchanged."
   ]
  },
  {
   "cell_type": "markdown",
   "id": "d280d18c",
   "metadata": {},
   "source": [
    "<p align=\"center\">\n",
    "  <img src=\"https://raw.githubusercontent.com/sarakpyny/CREST-Internship/main/img/lstm/LSTM3-C-line.png\" width=\"800\"/>\n",
    "  <br>\n",
    "</p>"
   ]
  },
  {
   "cell_type": "markdown",
   "id": "65ba1eae",
   "metadata": {},
   "source": [
    "The LSTM does have the ability to remove or add information to the cell state, carefully regulated by structures called gates.\n",
    "\n",
    "Gates are a way to optionally let information through. They are composed out of a sigmoid neural net layer and a pointwise multiplication operation."
   ]
  },
  {
   "cell_type": "markdown",
   "id": "525c50cc",
   "metadata": {},
   "source": [
    "<p align=\"center\">\n",
    "  <img src=\"https://raw.githubusercontent.com/sarakpyny/CREST-Internship/main/img/lstm/LSTM3-gate.png\" width=\"150\"/>\n",
    "  <br>\n",
    "</p>"
   ]
  },
  {
   "cell_type": "markdown",
   "id": "c706bfb1",
   "metadata": {},
   "source": [
    "The sigmoid layer outputs numbers between zero and one, describing how much of each component should be let through. A value of zero means “let nothing through,” while a value of one means “let everything through!”\n",
    "\n",
    "An LSTM has three of these gates, to protect and control the cell state."
   ]
  },
  {
   "cell_type": "markdown",
   "id": "64ef5384",
   "metadata": {},
   "source": [
    "## Step-by-Step LSTM Walk Through\n",
    "\n",
    "The first step in our LSTM is to decide what information we’re going to throw away from the cell state. This decision is made by a sigmoid layer called the “forget gate layer.” It looks at $h_{t−1}$ and xt, and outputs a number between 0 and 1 for each number in the cell state $C_{t−1}$. A 1 represents “completely keep this” while a 0 represents “completely get rid of this.”"
   ]
  },
  {
   "cell_type": "markdown",
   "id": "d716f7b7",
   "metadata": {},
   "source": [
    "<p align=\"center\">\n",
    "  <img src=\"https://raw.githubusercontent.com/sarakpyny/CREST-Internship/main/img/lstm/LSTM3-focus-f.png\" width=\"800\"/>\n",
    "  <br>\n",
    "</p>"
   ]
  },
  {
   "cell_type": "markdown",
   "id": "9697609f",
   "metadata": {},
   "source": [
    "The next step is to decide what new information we’re going to store in the cell state. This has two parts. First, a sigmoid layer called the “input gate layer” decides which values we’ll update. Next, a tanh layer creates a vector of new candidate values, $C̃_{t}$, that could be added to the state. In the next step, we’ll combine these two to create an update to the state."
   ]
  },
  {
   "cell_type": "markdown",
   "id": "860a7821",
   "metadata": {},
   "source": [
    "<p align=\"center\">\n",
    "  <img src=\"https://raw.githubusercontent.com/sarakpyny/CREST-Internship/main/img/lstm/LSTM3-focus-i.png\" width=\"800\"/>\n",
    "  <br>\n",
    "</p>"
   ]
  },
  {
   "cell_type": "markdown",
   "id": "f4dd2b5b",
   "metadata": {},
   "source": [
    "It’s now time to update the old cell state, $C_{t−1}$, into the new cell state $C_t$. The previous steps already decided what to do, we just need to actually do it.\n",
    "\n",
    "We multiply the old state by ft, forgetting the things we decided to forget earlier. Then we add $i_t ∗ C̃_t$. This is the new candidate values, scaled by how much we decided to update each state value."
   ]
  },
  {
   "cell_type": "markdown",
   "id": "02b6ef1b",
   "metadata": {},
   "source": [
    "<p align=\"center\">\n",
    "  <img src=\"https://raw.githubusercontent.com/sarakpyny/CREST-Internship/main/img/lstm/LSTM3-focus-C.png\" width=\"800\"/>\n",
    "  <br>\n",
    "</p>"
   ]
  },
  {
   "cell_type": "markdown",
   "id": "0802a081",
   "metadata": {},
   "source": [
    "Finally, we need to decide what we’re going to output. This output will be based on our cell state, but will be a filtered version. First, we run a sigmoid layer which decides what parts of the cell state we’re going to output. Then, we put the cell state through tanh (to push the values to be between −1 and 1) and multiply it by the output of the sigmoid gate, so that we only output the parts we decided to."
   ]
  },
  {
   "cell_type": "markdown",
   "id": "05a96b29",
   "metadata": {},
   "source": [
    "<p align=\"center\">\n",
    "  <img src=\"https://raw.githubusercontent.com/sarakpyny/CREST-Internship/main/img/lstm/LSTM3-focus-o.png\" width=\"800\"/>\n",
    "  <br>\n",
    "</p>"
   ]
  },
  {
   "cell_type": "markdown",
   "id": "538d2f30",
   "metadata": {},
   "source": [
    "## Variants on Long Short Term Memory\n",
    "\n",
    "What I’ve described so far is a pretty normal LSTM. But not all LSTMs are the same as the above. In fact, it seems like almost every paper involving LSTMs uses a slightly different version. The differences are minor, but it’s worth mentioning some of them.\n",
    "\n",
    "One popular LSTM variant, introduced by Gers & Schmidhuber (2000), is adding “**peephole connections**.” This means that we let the gate layers look at the cell state."
   ]
  },
  {
   "cell_type": "markdown",
   "id": "5dfbec51",
   "metadata": {},
   "source": [
    "<p align=\"center\">\n",
    "  <img src=\"https://raw.githubusercontent.com/sarakpyny/CREST-Internship/main/img/lstm/LSTM3-var-peepholes.png\" width=\"800\"/>\n",
    "  <br>\n",
    "</p>"
   ]
  },
  {
   "cell_type": "markdown",
   "id": "8f73dc3d",
   "metadata": {},
   "source": [
    "The above diagram adds peepholes to all the gates, but many papers will give some peepholes and not others.\n",
    "\n",
    "Another variation is to use coupled forget and input gates. Instead of separately deciding what to forget and what we should add new information to, we make those decisions together. We only forget when we’re going to input something in its place. We only input new values to the state when we forget something older."
   ]
  },
  {
   "cell_type": "markdown",
   "id": "8cf54270",
   "metadata": {},
   "source": [
    "<p align=\"center\">\n",
    "  <img src=\"https://raw.githubusercontent.com/sarakpyny/CREST-Internship/main/img/lstm/LSTM3-var-tied.png\" width=\"800\"/>\n",
    "  <br>\n",
    "</p>"
   ]
  },
  {
   "cell_type": "markdown",
   "id": "cd82ab54",
   "metadata": {},
   "source": [
    "A slightly more dramatic variation on the LSTM is the **Gated Recurrent Unit**, or GRU, introduced by Cho, et al. (2014). It combines the forget and input gates into a single “update gate.” It also merges the cell state and hidden state, and makes some other changes. The resulting model is simpler than standard LSTM models, and has been growing increasingly popular."
   ]
  },
  {
   "cell_type": "markdown",
   "id": "e09e4f06",
   "metadata": {},
   "source": [
    "<p align=\"center\">\n",
    "  <img src=\"https://raw.githubusercontent.com/sarakpyny/CREST-Internship/main/img/lstm/LSTM3-var-GRU.png\" width=\"800\"/>\n",
    "  <br>\n",
    "</p>"
   ]
  },
  {
   "cell_type": "markdown",
   "id": "591f21e4",
   "metadata": {},
   "source": [
    "These are only a few of the most notable LSTM variants. There are lots of others, like Depth Gated RNNs by Yao, et al. (2015). There’s also some completely different approach to tackling long-term dependencies, like Clockwork RNNs by Koutnik, et al. (2014).\n",
    "\n",
    "Which of these variants is best? Do the differences matter? Greff, et al. (2015) do a nice comparison of popular variants, finding that they’re all about the same. Jozefowicz, et al. (2015) tested more than ten thousand RNN architectures, finding some that worked better than LSTMs on certain tasks.\n",
    "\n"
   ]
  },
  {
   "cell_type": "markdown",
   "id": "8b45a924",
   "metadata": {},
   "source": [
    "## Conclusion\n",
    "\n",
    "Earlier, I mentioned the remarkable results people are achieving with RNNs. Essentially all of these are achieved using LSTMs. They really work a lot better for most tasks!\n",
    "\n",
    "Written down as a set of equations, LSTMs look pretty intimidating. Hopefully, walking through them step by step in this essay has made them a bit more approachable.\n",
    "\n",
    "LSTMs were a big step in what we can accomplish with RNNs. It’s natural to wonder: is there another big step? A common opinion among researchers is: “Yes! There is a next step and it’s attention!” The idea is to let every step of an RNN pick information to look at from some larger collection of information. For example, if you are using an RNN to create a caption describing an image, it might pick a part of the image to look at for every word it outputs. In fact, Xu, et al. (2015) do exactly this – it might be a fun starting point if you want to explore attention! There’s been a number of really exciting results using attention, and it seems like a lot more are around the corner…\n",
    "\n",
    "Attention isn’t the only exciting thread in RNN research. For example, Grid LSTMs by Kalchbrenner, et al. (2015) seem extremely promising. Work using RNNs in generative models – such as Gregor, et al. (2015), Chung, et al. (2015), or Bayer & Osendorfer (2015) – also seems very interesting. The last few years have been an exciting time for recurrent neural networks, and the coming ones promise to only be more so!"
   ]
  },
  {
   "cell_type": "markdown",
   "id": "cea3f04e",
   "metadata": {},
   "source": [
    "# LSTM code implementation\n",
    "\n",
    "Let's get started with Data Preparation for the LSTM  implementation!"
   ]
  },
  {
   "cell_type": "code",
   "execution_count": 2,
   "id": "37c45f50",
   "metadata": {},
   "outputs": [],
   "source": [
    "# import required libraries\n",
    "import torch\n",
    "import pandas as pd\n",
    "import torch.nn as nn\n",
    "import torch.optim as optim\n",
    "import numpy as np\n",
    "from torch.utils.data import DataLoader, TensorDataset\n",
    "from sklearn import preprocessing\n",
    "import matplotlib.pyplot as plt\n",
    "from tqdm import tqdm\n",
    "from sklearn.preprocessing import MinMaxScaler"
   ]
  },
  {
   "cell_type": "markdown",
   "id": "042e8642",
   "metadata": {},
   "source": [
    "### Data preparation"
   ]
  },
  {
   "cell_type": "markdown",
   "id": "4d25be84",
   "metadata": {},
   "source": [
    "**Example**\n",
    "\n",
    "To understand how should we prepare the data for LSTM, we’ll use a simple dataset as a Timeseries Forecasting example. Below is the full sequence of values and their restructuring as a training and testing dataset.\n",
    "\n",
    "<p align=\"center\">\n",
    "  <img src=\"https://raw.githubusercontent.com/aaubs/ds-master/main/data/Images/SequenceDataPerparation.webp\" width=\"400\">\n",
    "  <br>\n",
    "</p>\n",
    "\n",
    "Now, let’s separate the datasets into batches!\n",
    "\n",
    "\n",
    "<p align=\"center\">\n",
    "  <img src=\"https://raw.githubusercontent.com/aaubs/ds-master/main/data/Images/Seq_DataPerparation_2.webp\" width=\"100\">\n",
    "  <br>\n",
    "</p>"
   ]
  },
  {
   "cell_type": "code",
   "execution_count": 3,
   "id": "9d6e283d",
   "metadata": {},
   "outputs": [
    {
     "data": {
      "text/plain": [
       "(200, 1)"
      ]
     },
     "execution_count": 3,
     "metadata": {},
     "output_type": "execute_result"
    }
   ],
   "source": [
    "# generate time series data\n",
    "np.random.seed(42)\n",
    "t = np.arange(0, 200) \n",
    "\n",
    "# Components\n",
    "trend = 0.05 * t  # Linear trend\n",
    "seasonality = 2 * np.sin(0.2 * t)  # seasonality\n",
    "noise = np.random.normal(scale=0.5, size=len(t))  # Random noise\n",
    "\n",
    "# Final signal\n",
    "df = trend + seasonality + noise\n",
    "df = pd.DataFrame(df, columns=['value'])\n",
    "\n",
    "df.shape"
   ]
  },
  {
   "cell_type": "code",
   "execution_count": 4,
   "id": "a6d387fe",
   "metadata": {},
   "outputs": [
    {
     "data": {
      "image/png": "[encoded data removed]",
      "text/plain": [
       "<Figure size 1000x600 with 1 Axes>"
      ]
     },
     "metadata": {},
     "output_type": "display_data"
    }
   ],
   "source": [
    "# plot time series data\n",
    "plt.figure(figsize=(10, 6))\n",
    "plt.plot(df['value'], label='Time Series Data')\n",
    "plt.title('Time Series Data')\n",
    "plt.xlabel('Time')\n",
    "plt.ylabel('Value')\n",
    "plt.grid(True)\n",
    "plt.legend()\n",
    "plt.show()"
   ]
  },
  {
   "cell_type": "code",
   "execution_count": 5,
   "id": "8c426d43",
   "metadata": {},
   "outputs": [
    {
     "data": {
      "text/plain": [
       "(200, 1)"
      ]
     },
     "execution_count": 5,
     "metadata": {},
     "output_type": "execute_result"
    }
   ],
   "source": [
    "# Normalize the Data\n",
    "scaler = MinMaxScaler()\n",
    "data_scaled = scaler.fit_transform(df)\n",
    "data_scaled.shape"
   ]
  },
  {
   "cell_type": "code",
   "execution_count": 6,
   "id": "21cd776c",
   "metadata": {},
   "outputs": [
    {
     "data": {
      "text/plain": [
       "((160, 1), (40, 1))"
      ]
     },
     "execution_count": 6,
     "metadata": {},
     "output_type": "execute_result"
    }
   ],
   "source": [
    "# Split Data into Training and Testing Sets\n",
    "train_size = int(len(data_scaled) * 0.8)\n",
    "train_data = data_scaled[:train_size] # 80% for working \n",
    "test_data = data_scaled[train_size:] # 20% for testing (unseen data)\n",
    "\n",
    "train_data.shape, test_data.shape"
   ]
  },
  {
   "cell_type": "code",
   "execution_count": 7,
   "id": "b022a8ba",
   "metadata": {},
   "outputs": [
    {
     "data": {
      "text/plain": [
       "((128, 1), (32, 1))"
      ]
     },
     "execution_count": 7,
     "metadata": {},
     "output_type": "execute_result"
    }
   ],
   "source": [
    "# Further split the 'training data' into training and validation sets\n",
    "train_valid_size = int(len(train_data) * 0.8)\n",
    "train_data_final = train_data[:train_valid_size] # 80% training set\n",
    "valid_data = train_data[train_valid_size:] # 20% validation set \n",
    "\n",
    "train_data_final.shape, valid_data.shape"
   ]
  },
  {
   "cell_type": "code",
   "execution_count": 8,
   "id": "f7591971",
   "metadata": {},
   "outputs": [],
   "source": [
    "# Prepare Data for RNN Input\n",
    "def create_sequences_multivariate(data, n_timesteps, target_column_index): \n",
    "    \"\"\"\n",
    "    Create sequences for multivariate time series data\n",
    "    Args:\n",
    "        data (numpy array): The input data\n",
    "        n_timesteps (int): Number of timesteps to look back\n",
    "        target_column_index (int): Index of the target column\n",
    "    Returns:\n",
    "        X (numpy array): Input sequences\n",
    "        y (numpy array): Target values\n",
    "    \"\"\"\n",
    "    \n",
    "    X = []\n",
    "    y = []\n",
    "    for i in range(len(data) - n_timesteps): \n",
    "        seq_x = data[i:i + n_timesteps] # Get the sequence of n_timesteps\n",
    "        seq_y = data[i + n_timesteps, target_column_index] # Get the target value at the next timestep\n",
    "        X.append(seq_x) \n",
    "        y.append(seq_y)\n",
    "        \n",
    "    return np.array(X), np.array(y) # shape (samples, timesteps, features) for X and (samples,) for y"
   ]
  },
  {
   "cell_type": "markdown",
   "id": "b01021d9",
   "metadata": {},
   "source": [
    "Implementing code for LSTM and RNN requires sequential data preparation. The data preparation process for these models is visualized here!\n",
    "\n",
    "<p align=\"center\">\n",
    "  <img src=\"https://raw.githubusercontent.com/aaubs/ds-master/main/data/Images/sequence.gif\" width=\"700\">\n",
    "  <br>\n",
    "</p>\n",
    "\n"
   ]
  },
  {
   "cell_type": "code",
   "execution_count": 9,
   "id": "8d690707",
   "metadata": {},
   "outputs": [
    {
     "data": {
      "text/plain": [
       "((118, 10, 1), (118,), (22, 10, 1), (22,), (30, 10, 1), (30,))"
      ]
     },
     "execution_count": 9,
     "metadata": {},
     "output_type": "execute_result"
    }
   ],
   "source": [
    "n_timesteps = 10\n",
    "n_features = data_scaled.shape[1] \n",
    "target_column_index = 0 # Assuming the first column is the target\n",
    "\n",
    "# Create sequences for training, validation, and testing\n",
    "X_train, y_train = create_sequences_multivariate(train_data_final, n_timesteps, target_column_index)\n",
    "X_valid, y_valid = create_sequences_multivariate(valid_data, n_timesteps, target_column_index)\n",
    "X_test, y_test = create_sequences_multivariate(test_data, n_timesteps, target_column_index)\n",
    "\n",
    "X_train.shape, y_train.shape, X_valid.shape, y_valid.shape, X_test.shape, y_test.shape"
   ]
  },
  {
   "cell_type": "code",
   "execution_count": 10,
   "id": "548c37e8",
   "metadata": {},
   "outputs": [
    {
     "data": {
      "text/plain": [
       "(torch.Size([118, 10, 1]),\n",
       " torch.Size([118]),\n",
       " torch.Size([22, 10, 1]),\n",
       " torch.Size([22]),\n",
       " torch.Size([30, 10, 1]),\n",
       " torch.Size([30]))"
      ]
     },
     "execution_count": 10,
     "metadata": {},
     "output_type": "execute_result"
    }
   ],
   "source": [
    "# Convert to tensors\n",
    "X_train = torch.tensor(X_train, dtype=torch.float32) # Convert to float32 tensor\n",
    "y_train = torch.tensor(y_train, dtype=torch.float32)\n",
    "\n",
    "X_valid = torch.tensor(X_valid, dtype=torch.float32)\n",
    "y_valid = torch.tensor(y_valid, dtype=torch.float32)\n",
    "\n",
    "X_test = torch.tensor(X_test, dtype=torch.float32)\n",
    "y_test = torch.tensor(y_test, dtype=torch.float32)\n",
    "\n",
    "X_train.shape, y_train.shape, X_valid.shape, y_valid.shape, X_test.shape, y_test.shape"
   ]
  },
  {
   "cell_type": "code",
   "execution_count": 11,
   "id": "09a56632",
   "metadata": {},
   "outputs": [
    {
     "data": {
      "text/plain": [
       "<torch.utils.data.dataloader.DataLoader at 0x15d1f71d0>"
      ]
     },
     "execution_count": 11,
     "metadata": {},
     "output_type": "execute_result"
    }
   ],
   "source": [
    "# Create DataLoaders\n",
    "train_dataset = TensorDataset(X_train, y_train) # Create TensorDataset for training\n",
    "valid_dataset = TensorDataset(X_valid, y_valid)\n",
    "test_dataset = TensorDataset(X_test, y_test)\n",
    "\n",
    "train_loader = DataLoader(train_dataset, batch_size=1, shuffle=False) # Create DataLoader for training\n",
    "valid_loader = DataLoader(valid_dataset, batch_size=1, shuffle=False)\n",
    "test_loader = DataLoader(test_dataset, batch_size=1, shuffle=False)\n",
    "\n",
    "train_loader"
   ]
  },
  {
   "cell_type": "markdown",
   "id": "5d884193",
   "metadata": {},
   "source": [
    "We then have to prepare the dataset. We need the data as Pytorch tensors so that we can use that in our model which we will make. We use the dataloader so that we can extract the data in batches. This is especially helpful for large datasets.\n",
    "\n",
    "<p align=\"center\">\n",
    "  <img src=\"https://raw.githubusercontent.com/aaubs/ds-master/main/data/Images/TensorDataset.webp\" width=\"900\">\n",
    "  <br>\n",
    "</p>"
   ]
  },
  {
   "cell_type": "markdown",
   "id": "5f82a888",
   "metadata": {},
   "source": [
    "### Training LSTM"
   ]
  },
  {
   "cell_type": "markdown",
   "id": "921c5646",
   "metadata": {},
   "source": [
    "In order to create a LSTM, we follow the same steps as for implementing an ANN!\n",
    "\n",
    "\n",
    "\n",
    "- Creating a Neural Network\n",
    "- Network Evaluation\n",
    "- Gradient Calculation\n",
    "- Back Propagation\n",
    "- Training\n",
    "\n",
    "<p align=\"center\">\n",
    "  <img src=\"https://raw.githubusercontent.com/aaubs/ds-master/main/data/Images/LSTM_dynamic.gif\" width=\"600\">\n",
    "  <br>\n",
    "</p>"
   ]
  },
  {
   "cell_type": "code",
   "execution_count": 12,
   "id": "20077423",
   "metadata": {},
   "outputs": [],
   "source": [
    "# note:\n",
    "# - input size : number of features in the input data\n",
    "# - hidden size : number of features in the hidden state of the LSTM\n",
    "# - num_layers : number of recurrent layers in the LSTM\n",
    "# - dropout : regularization technique to prevent overfitting\n",
    "# - batch size : number of samples processed before the model is updated\n",
    "\n",
    "# Build the LSTM Model\n",
    "# 1. Creating a FeedForwardNetwork\n",
    "# 1.1 Structure (Architecture) of NN\n",
    "\n",
    "class LSTMModel(nn.Module):\n",
    "    def __init__(self, input_size, hidden_size=50, num_layers=2, output_size=1, dropout=0.2): \n",
    "        \"\"\"\n",
    "        Initialize the LSTM model\n",
    "        Args:\n",
    "            input_size (int): Number of features in the input\n",
    "            hidden_size (int): Number of features in the hidden state\n",
    "            num_layers (int): Number of recurrent layers\n",
    "            output_size (int): Number of output features\n",
    "            dropout (float): Dropout rate\n",
    "        \"\"\"\n",
    "        super(LSTMModel, self).__init__()\n",
    "        self.hidden_size = hidden_size\n",
    "        self.num_layers = num_layers\n",
    "\n",
    "        self.lstm = nn.LSTM(input_size, hidden_size, num_layers,\n",
    "                            batch_first=True, dropout=dropout) \n",
    "        \n",
    "        self.fc = nn.Linear(hidden_size, output_size) # Fully connected layer to map the LSTM output to the desired output size\n",
    "\n",
    "    def forward(self, x):\n",
    "        \"\"\"\n",
    "        Forward pass through the LSTM model\n",
    "        Args:\n",
    "            x (torch.Tensor): Input tensor of shape (batch_size, seq_length, input_size)\n",
    "        Returns:\n",
    "            torch.Tensor: Output tensor of shape (batch_size, output_size)\n",
    "        \"\"\"\n",
    "        h0 = torch.zeros(self.num_layers, x.size(0), self.hidden_size).to(x.device) # Initial hidden state\n",
    "        c0 = torch.zeros(self.num_layers, x.size(0), self.hidden_size).to(x.device) # Initial cell state\n",
    "\n",
    "        out, (hn, cn) = self.lstm(x, (h0, c0)) # Forward pass through LSTM\n",
    "        out = out[:, -1, :]  # Last time step\n",
    "        out = self.fc(out) # Fully connected layer to get the final output\n",
    "        return out"
   ]
  },
  {
   "cell_type": "code",
   "execution_count": 13,
   "id": "1efa163f",
   "metadata": {},
   "outputs": [
    {
     "name": "stderr",
     "output_type": "stream",
     "text": [
      "/Library/Frameworks/Python.framework/Versions/3.12/lib/python3.12/site-packages/torch/nn/modules/rnn.py:123: UserWarning: dropout option adds dropout after all but last recurrent layer, so non-zero dropout expects num_layers greater than 1, but got dropout=0.2 and num_layers=1\n",
      "  warnings.warn(\n"
     ]
    },
    {
     "data": {
      "text/plain": [
       "LSTMModel(\n",
       "  (lstm): LSTM(1, 50, batch_first=True, dropout=0.2)\n",
       "  (fc): Linear(in_features=50, out_features=1, bias=True)\n",
       ")"
      ]
     },
     "execution_count": 13,
     "metadata": {},
     "output_type": "execute_result"
    }
   ],
   "source": [
    "# Instantiate the LSTM model\n",
    "model = LSTMModel(input_size=n_features, hidden_size=50, num_layers=1, output_size=1, dropout=0.2)\n",
    "\n",
    "# Define loss function and optimizer\n",
    "# Loss Function\n",
    "criterion = nn.MSELoss()\n",
    "\n",
    "# Optimization Approach\n",
    "optimizer = optim.Adam(model.parameters(), lr=0.001) # Adam optimizer with learning rate 0.001\n",
    "\n",
    "# Train the Model\n",
    "device = torch.device('cuda' if torch.cuda.is_available() else 'cpu') # Set device to GPU if available, else CPU\n",
    "model.to(device)"
   ]
  },
  {
   "cell_type": "code",
   "execution_count": 14,
   "id": "b8305da8",
   "metadata": {},
   "outputs": [
    {
     "name": "stdout",
     "output_type": "stream",
     "text": [
      "Epoch 2/50, Train Loss: 0.019689, Valid Loss: 0.023883\n",
      "Epoch 4/50, Train Loss: 0.016575, Valid Loss: 0.016383\n",
      "Epoch 6/50, Train Loss: 0.013620, Valid Loss: 0.013533\n",
      "Epoch 8/50, Train Loss: 0.010050, Valid Loss: 0.011115\n",
      "Epoch 10/50, Train Loss: 0.005318, Valid Loss: 0.003071\n",
      "Epoch 12/50, Train Loss: 0.003545, Valid Loss: 0.002359\n",
      "Epoch 14/50, Train Loss: 0.003204, Valid Loss: 0.002538\n",
      "Epoch 16/50, Train Loss: 0.003167, Valid Loss: 0.003595\n",
      "Epoch 18/50, Train Loss: 0.003119, Valid Loss: 0.004022\n",
      "Epoch 20/50, Train Loss: 0.002974, Valid Loss: 0.003719\n",
      "Epoch 22/50, Train Loss: 0.002872, Valid Loss: 0.003467\n",
      "Epoch 24/50, Train Loss: 0.002824, Valid Loss: 0.003412\n",
      "Epoch 26/50, Train Loss: 0.002804, Valid Loss: 0.003477\n",
      "Epoch 28/50, Train Loss: 0.002793, Valid Loss: 0.003596\n",
      "Epoch 30/50, Train Loss: 0.002779, Valid Loss: 0.003727\n",
      "Epoch 32/50, Train Loss: 0.002762, Valid Loss: 0.003871\n",
      "Epoch 34/50, Train Loss: 0.002746, Valid Loss: 0.004077\n",
      "Epoch 36/50, Train Loss: 0.002733, Valid Loss: 0.004383\n",
      "Epoch 38/50, Train Loss: 0.002721, Valid Loss: 0.004738\n",
      "Epoch 40/50, Train Loss: 0.002711, Valid Loss: 0.005129\n",
      "Epoch 42/50, Train Loss: 0.002689, Valid Loss: 0.005331\n",
      "Epoch 44/50, Train Loss: 0.002695, Valid Loss: 0.005800\n",
      "Epoch 46/50, Train Loss: 0.002679, Valid Loss: 0.005772\n",
      "Epoch 48/50, Train Loss: 0.002690, Valid Loss: 0.006223\n",
      "Epoch 50/50, Train Loss: 0.002684, Valid Loss: 0.005915\n"
     ]
    }
   ],
   "source": [
    "# Note:\n",
    "# - epochs : number of times the entire training dataset is passed through the model\n",
    "# - batch_size : number of samples processed before the model is updated\n",
    "\n",
    "num_epochs = 50\n",
    "train_losses = []\n",
    "valid_losses = []\n",
    "\n",
    "for epoch in range(num_epochs):\n",
    "    model.train() \n",
    "    train_loss = 0\n",
    "    for inputs, targets in train_loader:\n",
    "        inputs = inputs.to(device) \n",
    "        targets = targets.to(device)\n",
    "\n",
    "        optimizer.zero_grad() # Zero the gradients \n",
    "\n",
    "        # Forward Pass\n",
    "        outputs = model(inputs) \n",
    "\n",
    "        # FeedForward Evaluation (loss)\n",
    "        loss = criterion(outputs.view(-1), targets.view(-1))\n",
    "\n",
    "        # Backward Pass / Gradient Calculation\n",
    "        loss.backward()\n",
    "        # Note: The optimizer will update the weights based on the gradients calculated in the backward pass\n",
    "\n",
    "        # Back Propagation / Update Weights\n",
    "        optimizer.step() \n",
    "\n",
    "        # Accumulate the training loss\n",
    "        train_loss += loss.item() * inputs.size(0) \n",
    "\n",
    "    train_loss /= len(train_loader.dataset) # Average the training loss over the entire dataset\n",
    "    train_losses.append(train_loss) # for plot\n",
    "\n",
    "    # Validation \n",
    "    model.eval()\n",
    "    valid_loss = 0\n",
    "    with torch.no_grad():\n",
    "        for inputs, targets in valid_loader:\n",
    "            inputs = inputs.to(device)\n",
    "            targets = targets.to(device)\n",
    "            outputs = model(inputs) # Forward pass through the model\n",
    "            loss = criterion(outputs.view(-1), targets.view(-1)) # Calculate the loss for validation\n",
    "            valid_loss += loss.item() * inputs.size(0) \n",
    "    valid_loss /= len(valid_loader.dataset)\n",
    "    valid_losses.append(valid_loss)\n",
    "\n",
    "    if (epoch + 1) % 2 == 0:\n",
    "        print(f'Epoch {epoch + 1}/{num_epochs}, Train Loss: {train_loss:.6f}, Valid Loss: {valid_loss:.6f}')"
   ]
  },
  {
   "cell_type": "code",
   "execution_count": 15,
   "id": "5da205fe",
   "metadata": {},
   "outputs": [
    {
     "data": {
      "image/png": "[encoded data removed]",
      "text/plain": [
       "<Figure size 1200x600 with 1 Axes>"
      ]
     },
     "metadata": {},
     "output_type": "display_data"
    }
   ],
   "source": [
    "# plot predicted vs actual values\n",
    "plt.figure(figsize=(12, 6))\n",
    "plt.plot(train_losses, label='Train Loss')\n",
    "plt.plot(valid_losses, label='Validation Loss')\n",
    "plt.title('Training and Validation Loss')\n",
    "plt.xlabel('Epochs')\n",
    "plt.ylabel('Loss')\n",
    "plt.legend()\n",
    "plt.show()"
   ]
  },
  {
   "cell_type": "code",
   "execution_count": 16,
   "id": "0341b569",
   "metadata": {},
   "outputs": [
    {
     "data": {
      "text/plain": [
       "((30, 1), (30,))"
      ]
     },
     "execution_count": 16,
     "metadata": {},
     "output_type": "execute_result"
    }
   ],
   "source": [
    "# Evaluate the Model\n",
    "model.eval()\n",
    "with torch.no_grad(): # this way prevents PyTorch from storing unnecessary information for backpropagation, making inference faster and more memory-efficient.\n",
    "    test_preds = model(X_test.to(device)).cpu().numpy()\n",
    "    test_actuals = y_test.numpy()\n",
    "\n",
    "\n",
    "test_preds.shape, test_actuals.shape"
   ]
  },
  {
   "cell_type": "code",
   "execution_count": 17,
   "id": "a655f9ff",
   "metadata": {},
   "outputs": [],
   "source": [
    "# Denormalize and Visualize Predictions\n",
    "def denormalize(scaled_data, scaler, index):\n",
    "    data = np.zeros((len(scaled_data), scaler.n_features_in_))\n",
    "    data[:, index] = scaled_data[:, 0]\n",
    "    data = scaler.inverse_transform(data)\n",
    "    return data[:, index]\n",
    "\n",
    "test_preds_denorm = denormalize(test_preds, scaler, target_column_index)\n",
    "test_actuals_denorm = denormalize(test_actuals.reshape(-1, 1), scaler, target_column_index)"
   ]
  },
  {
   "cell_type": "code",
   "execution_count": 18,
   "id": "0d644e00",
   "metadata": {},
   "outputs": [
    {
     "data": {
      "image/png": "[encoded data removed]",
      "text/plain": [
       "<Figure size 1000x600 with 1 Axes>"
      ]
     },
     "metadata": {},
     "output_type": "display_data"
    }
   ],
   "source": [
    "# plot\n",
    "plt.figure(figsize=(10, 6))\n",
    "plt.plot(test_actuals_denorm, label='Actual')\n",
    "plt.plot(test_preds_denorm, label='Predicted')\n",
    "plt.title('LSTM Predictions vs Actuals on Test Set')\n",
    "plt.xlabel('Index')\n",
    "plt.ylabel('value')\n",
    "plt.grid(True)\n",
    "plt.legend()\n",
    "plt.show()"
   ]
  },
  {
   "cell_type": "markdown",
   "id": "682e7b55",
   "metadata": {},
   "source": [
    "## LSTM from scratch"
   ]
  },
  {
   "cell_type": "code",
   "execution_count": 19,
   "id": "fecb41a7",
   "metadata": {},
   "outputs": [],
   "source": [
    "# import libraries\n",
    "import torch\n",
    "import torch.nn as nn\n",
    "import torch.nn.functional as F\n",
    "from torch.optim import Adam\n",
    "\n",
    "import lightning as L\n",
    "from torch.utils.data import DataLoader, TensorDataset"
   ]
  },
  {
   "cell_type": "code",
   "execution_count": 20,
   "id": "4b3736c6",
   "metadata": {},
   "outputs": [],
   "source": [
    "class LSTMbyHand(L.LightningModule):\n",
    "\n",
    "    # Initialize the LSTM model parameters\n",
    "    def __init__(self):\n",
    "        super().__init__()\n",
    "        mean = torch.tensor(0.0)\n",
    "        std = torch.tensor(1.0)\n",
    "\n",
    "        self.wf1 = nn.Parameter(torch.normal(mean=mean, std=std), requires_grad=True)\n",
    "        self.wf2 = nn.Parameter(torch.normal(mean=mean, std=std), requires_grad=True)\n",
    "        self.bf1 = nn.Parameter(torch.tensor(0.), requires_grad=True)\n",
    "\n",
    "        self.wi1 = nn.Parameter(torch.normal(mean=mean, std=std), requires_grad=True)\n",
    "        self.wi2 = nn.Parameter(torch.normal(mean=mean, std=std), requires_grad=True)\n",
    "        self.bi1 = nn.Parameter(torch.tensor(0.), requires_grad=True)\n",
    "\n",
    "        self.wc1 = nn.Parameter(torch.normal(mean=mean, std=std), requires_grad=True)\n",
    "        self.wc2 = nn.Parameter(torch.normal(mean=mean, std=std), requires_grad=True)\n",
    "        self.bc1 = nn.Parameter(torch.tensor(0.), requires_grad=True)\n",
    "\n",
    "        self.wo1 = nn.Parameter(torch.normal(mean=mean, std=std), requires_grad=True)\n",
    "        self.wo2 = nn.Parameter(torch.normal(mean=mean, std=std), requires_grad=True)\n",
    "        self.bo1 = nn.Parameter(torch.tensor(0.), requires_grad=True)\n",
    "\n",
    "    # Define the LSTM unit\n",
    "    def lstm_unit(self, input_value, long_memory, short_memory):\n",
    "        long_remember_percent = torch.sigmoid((short_memory * self.wf1) + \n",
    "                                              (input_value * self.wf2) +\n",
    "                                              self.bf1)\n",
    "        potential_remember_percent = torch.sigmoid((short_memory * self.wi1) + \n",
    "                                                   (input_value * self.wi2) +\n",
    "                                                   self.bpr1)\n",
    "        potential_memory = torch.tanh((short_memory * self.wc1) +\n",
    "                                      (input_value * self.wc2) +\n",
    "                                      self.bc1)\n",
    "        updated_long_memory = ((long_memory * long_remember_percent) +\n",
    "                               (potential_remember_percent * potential_memory))\n",
    "        output_percent = torch.sigmoid((short_memory * self.wo1) +\n",
    "                                       (input_value * self.wo2) +\n",
    "                                       self.bo1)\n",
    "        updated_short_memory = torch.tanh(updated_long_memory) * output_percent\n",
    "        return ([updated_long_memory, updated_short_memory])\n",
    "\n",
    "    # Define the forward pass of the LSTM\n",
    "    def forward(self, input):\n",
    "        long_memory = torch.zeros(input.shape[0], input.shape[2])\n",
    "        short_memory = torch.zeros(input.shape[0], input.shape[2])\n",
    "        for i in range(input.shape[1]):\n",
    "            long_memory, short_memory = self.lstm_unit(input[:, i, :], long_memory, short_memory)\n",
    "        return short_memory\n",
    "\n",
    "    # Define the optimizer\n",
    "    def configure_optimizers(self):\n",
    "        return Adam(params=self.parameters())\n",
    "\n",
    "    # Define the training step\n",
    "    def training_step(self, batch, batch_idx):\n",
    "        input_i, label_i = batch\n",
    "        output_i = self.forward(input_i[0])\n",
    "        loss = F.mse_loss(output_i, label_i[0])\n",
    "        self.log('train_loss', loss, on_step=True, on_epoch=True, prog_bar=True, logger=True)\n",
    "\n",
    "        return loss"
   ]
  },
  {
   "cell_type": "code",
   "execution_count": 21,
   "id": "0801301d",
   "metadata": {},
   "outputs": [],
   "source": [
    "model = LSTMbyHand()"
   ]
  }
 ],
 "metadata": {
  "kernelspec": {
   "display_name": "Python 3",
   "language": "python",
   "name": "python3"
  },
  "language_info": {
   "codemirror_mode": {
    "name": "ipython",
    "version": 3
   },
   "file_extension": ".py",
   "mimetype": "text/x-python",
   "name": "python",
   "nbconvert_exporter": "python",
   "pygments_lexer": "ipython3",
   "version": "3.12.6"
  }
 },
 "nbformat": 4,
 "nbformat_minor": 5
}
