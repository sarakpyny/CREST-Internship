{
 "cells": [
  {
   "cell_type": "markdown",
   "id": "7cfba888",
   "metadata": {},
   "source": [
    "## Introduction to LZ77 Compression\n",
    "\n",
    "**LZ77** is a lossless data compression algorithm developed by Abraham Lempel and Jacob Ziv in 1977.\n",
    "\n",
    "The key idea is to **replace repeated sequences** in a string with references to previous occurrences. It uses a **sliding window** mechanism to find these repetitions.\n",
    "\n",
    "**LZ77 Outputs :** Each compressed piece of data is a *triple* (offset, length, next_character):\n",
    "\n",
    "- **offset** : how far back to look in the search buffer\n",
    "- **length** : number of characters to copy\n",
    "- **next_character** : the next new character following the match\n",
    "\n",
    "**Sliding Window Structure :** LZ77 uses two buffers:\n",
    "\n",
    "- **Search buffer**: a window of recently seen text (past)\n",
    "- **Look-ahead buffer**: text currently being matched (future)\n",
    "\n",
    "\n",
    "As the algorithm proceeds, the window **slides forward**, trying to match the longest substring in the search buffer\n",
    "\n",
    "**Summary of Workflow :**\n",
    "\n",
    "1. At each position in the text, search backward for the longest match.\n",
    "2. If a match is found, encode it as (offset, length, next character)\n",
    "3. If no match is found, encode as (0, 0, current character)\n",
    "4. Slide the window forward and repeat."
   ]
  },
  {
   "cell_type": "markdown",
   "metadata": {},
   "source": [
    "**LZ77 Compression – Pseudocode :**\n",
    "\n",
    "Here is the simplified pseudocode of the LZ77 algorithm using a sliding window:\n",
    "\n",
    "<p align=\"center\">\n",
    "  <img src=\"img/LZ77/lz77.png\" width=\"800\"/>\n",
    "  <br>\n",
    "  <em>LZ77 Peudocode Wiki</em>\n",
    "</p>\n"
   ]
  },
  {
   "cell_type": "markdown",
   "id": "1a755fc2",
   "metadata": {},
   "source": [
    "### Example\n",
    "Text : `'abababab'`\n",
    "\n",
    "Let’s say:\n",
    "\n",
    "- Search buffer = 6 characters\n",
    "- Look-ahead buffer = 4 characters\n",
    "\n",
    "**Step 1:** start with:\n",
    "\n",
    "- Search:   [empty]\n",
    "- Look-ahead: a b a b\n",
    "\n",
    "Since nothing in the search buffer, LZ77 outputs: `(0, 0, 'a')`\n",
    "\n",
    "Move forward one character.\n",
    "\n",
    "**Step 2:**\n",
    "\n",
    "- Search:   a\n",
    "- Look-ahead: b a b\n",
    "\n",
    "Nothing matches 'b', so: `(0, 0, 'b')` \n",
    "\n",
    "Now move forward one character.\n",
    "\n",
    "**Step 3:**\n",
    "\n",
    "- Search:   a b\n",
    "- Look-ahead: a b\n",
    "\n",
    "Now we see \"a b\" in the search buffer!\n",
    "\n",
    "We output: `(offset=2, length=2, next char='a')` \n",
    "\n",
    "Because from 2 characters ago (the 'a'), we can repeat 2 characters (\"a b\"), and the next character is 'a'.\n",
    "\n",
    "We continue...\n",
    "\n",
    "**Summary of Output:**\n",
    "For the string a b a b a b a b, we might get something like:\n",
    "\n",
    "(0,0,'a')  \n",
    "(0,0,'b')  \n",
    "(2,2,'a')  \n",
    "(2,2,'')    <- optional if at end"
   ]
  },
  {
   "cell_type": "markdown",
   "id": "03dd15cd",
   "metadata": {},
   "source": [
    "### LZ77 Compression Function in Python"
   ]
  },
  {
   "cell_type": "code",
   "execution_count": 52,
   "id": "fc9ead97",
   "metadata": {},
   "outputs": [],
   "source": [
    "from typing import List, Tuple\n",
    "\n",
    "# LZ77 Compression Algorithm\n",
    "def lz77_compress(text: str, window_size: int = 20, lookahead_buffer_size: int = 15) -> List[Tuple[int, int, str]]:\n",
    "    \"\"\"\n",
    "    Compress a string using the LZ77 algorithm\n",
    "\n",
    "    :param text: The input string to compress\n",
    "    :param window_size: The size of the sliding window\n",
    "    :param lookahead_buffer_size: The size of the lookahead buffer\n",
    "\n",
    "    :return: A list of tuples, each containing (distance, length, next character)\n",
    "    \"\"\"\n",
    "    i = 0\n",
    "    output = []\n",
    "\n",
    "    while i < len(text):\n",
    "        max_match_distance = 0\n",
    "        max_match_length = 0\n",
    "        next_char = ''\n",
    "        start_index = max(0, i - window_size)\n",
    "        window = text[start_index:i]\n",
    "\n",
    "        # Find longest match in the window\n",
    "        for j in range(1, min(lookahead_buffer_size, len(text) - i) + 1):\n",
    "            substring = text[i:i + j]\n",
    "            pos = window.rfind(substring)\n",
    "            if pos != -1:\n",
    "                max_match_distance = i - (start_index + pos)\n",
    "                max_match_length = j\n",
    "                if i + j < len(text):\n",
    "                    next_char = text[i + j]\n",
    "                else:\n",
    "                    next_char = ''\n",
    "            else:\n",
    "                break\n",
    "\n",
    "        if max_match_length > 0:\n",
    "            output.append((max_match_distance, max_match_length, next_char))\n",
    "            i += max_match_length + 1\n",
    "        else:\n",
    "            output.append((0, 0, text[i]))\n",
    "            i += 1\n",
    "\n",
    "    return output"
   ]
  },
  {
   "cell_type": "code",
   "execution_count": null,
   "id": "7399d255",
   "metadata": {},
   "outputs": [
    {
     "data": {
      "text/plain": [
       "[(0, 0, 'b'), (0, 0, 'a'), (0, 0, 'n'), (2, 2, 'a')]"
      ]
     },
     "execution_count": 53,
     "metadata": {},
     "output_type": "execute_result"
    }
   ],
   "source": [
    "compressed_output = lz77_compress(\"banana\")\n",
    "compressed_output"
   ]
  },
  {
   "cell_type": "markdown",
   "id": "ce041480",
   "metadata": {},
   "source": [
    "### LZ77 Decompression Function\n"
   ]
  },
  {
   "cell_type": "code",
   "execution_count": 54,
   "id": "a7e0eacd",
   "metadata": {},
   "outputs": [],
   "source": [
    "def lz77_decompress(compressed_output):\n",
    "    output = []\n",
    "\n",
    "    for offset, length, char in compressed_output:\n",
    "        if offset == 0 and length == 0:\n",
    "            output.append(char)\n",
    "        else:\n",
    "            start = len(output) - offset\n",
    "            for i in range(length):\n",
    "                output.append(output[start + i])\n",
    "            if char:\n",
    "                output.append(char)\n",
    "\n",
    "    return ''.join(output)"
   ]
  },
  {
   "cell_type": "code",
   "execution_count": 55,
   "id": "f59f905d",
   "metadata": {},
   "outputs": [
    {
     "data": {
      "text/plain": [
       "'banana'"
      ]
     },
     "execution_count": 55,
     "metadata": {},
     "output_type": "execute_result"
    }
   ],
   "source": [
    "# Test the decompression\n",
    "original = lz77_decompress(compressed_output)\n",
    "original"
   ]
  },
  {
   "cell_type": "markdown",
   "id": "1ff02d83",
   "metadata": {},
   "source": [
    "## Introduction to LZ78 \n",
    "\n",
    "**LZ78** is a lossless data compression algorithm introduced by Abraham Lempel and Jacob Ziv in 1978.\n",
    "\n",
    "Unlike LZ77, which uses a sliding window, LZ78 builds a dictionary of phrases (substrings) as it reads the input.\n",
    "\n",
    "**Key Concept**\n",
    "\n",
    "- Read the input character by character.\n",
    "- Build and maintain a **dictionary of known phrases**.\n",
    "- Replace new occurrences with a reference to the dictionary instead of repeating the whole phrase.\n",
    "\n",
    "**Output Format**\n",
    "\n",
    "LZ78 outputs a sequence of **pairs** (index, character):\n",
    "\n",
    "\n",
    "Where:\n",
    "- *index* = index of a previously seen phrase (or 0 if it's a new one)\n",
    "- *character* = the next character that extends the phrase\n",
    "\n",
    "The pair is then added as a **new entry in the dictionary** : dictionary[index] + character\n",
    "\n",
    "This allows repeated phrases to be stored efficiently.\n"
   ]
  },
  {
   "cell_type": "markdown",
   "id": "239af96e",
   "metadata": {},
   "source": [
    "**LZ78 Compression – Pseudocode**\n",
    "\n",
    "Below is the pseudocode describing how the LZ78 algorithm works:\n",
    "\n",
    "\n",
    "<p align=\"center\">\n",
    "  <img src=\"img/LZ77/lz78.png\" width=\"800\"/>\n",
    "  <br>\n",
    "</p>\n"
   ]
  },
  {
   "cell_type": "markdown",
   "id": "12c37da6",
   "metadata": {},
   "source": [
    "### Example \n",
    "\n",
    "String : `wawawawa`\n",
    "\n",
    "We'll initialize:\n",
    "\n",
    "- dictionary = {} (empty at start)\n",
    "- Phrase index starts from 1\n",
    "\n",
    "We read characters and build phrases like this:\n",
    "\n",
    "**Step 1:** \n",
    "\n",
    "Input: `\"w\"`   \n",
    "No match in dictionary → emit: `(0, 'w')`  \n",
    "\n",
    "Add \"w\" to dictionary with index 1: `1: \"w\"`  \n",
    "\n",
    "**Step 2:**\n",
    "\n",
    "Next character: `\"a\"`   \n",
    "Not in dictionary → emit: `(0, 'a')`   \n",
    "\n",
    "Add \"a\" to dictionary: `2: \"a\"`   \n",
    "\n",
    "**Step 3:**\n",
    "\n",
    "Next characters: `\"w\"` → `\"wa\"`   \n",
    "`\"w\"` is in dictionary (index 1)  \n",
    "Now we look ahead: \"wa\" is new → emit: `(1, 'a')` ← `(prefix \"w\", then \"a\")`\n",
    "\n",
    "Add \"wa\" to dictionary: `3: \"wa\"`\n",
    "\n",
    "**Step 4:**\n",
    "\n",
    "Next: `\"w\"` → `\"wa\"` → `\"waw\"`  \n",
    "`\"wa\"` is in dictionary (index 3)    \n",
    "Next is \"waw\" — new → emit: `(3, 'w')`\n",
    "\n",
    "Add \"waw\" to dictionary: `4: \"waw\"`\n",
    "\n",
    "And so on...\n",
    "\n",
    "\n",
    "Example: `\"banana\"`\n",
    "\n",
    "Let’s compress \"banana\" with LZ78:\n",
    "\n",
    "1. b → not found → `(0, 'b')` → add `\"b\"` as 1\n",
    "2. a → not found → `(0, 'a')` → add `\"a\"` as 2\n",
    "3. n → not found → `(0, 'n')` → add `\"n\"` as 3\n",
    "4. a → found at 2, next is n → `\"an\"` not in dictionary → `(2, 'n')` → add `\"an\"` as 4\n",
    "5. a → found at 2, next is end → `(2, '')` or nothing to add."
   ]
  },
  {
   "cell_type": "markdown",
   "id": "b1dba29b",
   "metadata": {},
   "source": [
    "### LZ78 Compression Function\n"
   ]
  },
  {
   "cell_type": "code",
   "execution_count": 1,
   "id": "a1c200f7",
   "metadata": {},
   "outputs": [],
   "source": [
    "def lz78_compress(text):\n",
    "    dictionary = {}\n",
    "    data = []\n",
    "    phrase = \"\"\n",
    "    dict_size = 1  # dictionary indices start from 1\n",
    "\n",
    "    for char in text:\n",
    "        if phrase + char in dictionary:\n",
    "            phrase += char\n",
    "        else:\n",
    "            if phrase == \"\":\n",
    "                data.append((0, char))\n",
    "            else:\n",
    "                data.append((dictionary[phrase], char))\n",
    "            dictionary[phrase + char] = dict_size\n",
    "            dict_size += 1\n",
    "            phrase = \"\"\n",
    "\n",
    "    if phrase != \"\":\n",
    "        data.append((dictionary[phrase], \"\"))\n",
    "\n",
    "    return data\n"
   ]
  },
  {
   "cell_type": "code",
   "execution_count": 6,
   "id": "47a969c2",
   "metadata": {},
   "outputs": [
    {
     "data": {
      "text/plain": [
       "[(0, 'b'), (0, 'a'), (0, 'n'), (2, 'n'), (2, '')]"
      ]
     },
     "execution_count": 6,
     "metadata": {},
     "output_type": "execute_result"
    }
   ],
   "source": [
    "compressed_output = lz78_compress(\"banana\")\n",
    "compressed_output\n"
   ]
  },
  {
   "cell_type": "markdown",
   "id": "b1de5aeb",
   "metadata": {},
   "source": [
    "#### LZ78 Decompression Function"
   ]
  },
  {
   "cell_type": "code",
   "execution_count": 7,
   "id": "6d25dedb",
   "metadata": {},
   "outputs": [
    {
     "name": "stdout",
     "output_type": "stream",
     "text": [
      "Decompressed string: banana\n"
     ]
    }
   ],
   "source": [
    "\n",
    "def lz78_decompress(compressed_data):\n",
    "    dictionary = {0: \"\"}  # index 0 corresponds to an empty string\n",
    "    output = []\n",
    "    dict_size = 1\n",
    "\n",
    "    for index, char in compressed_data:\n",
    "        entry = dictionary.get(index, \"\") + char\n",
    "        output.append(entry)\n",
    "        dictionary[dict_size] = entry\n",
    "        dict_size += 1\n",
    "\n",
    "    return ''.join(output)\n",
    "\n",
    "# Test decompression\n",
    "decompressed = lz78_decompress(compressed_output)\n",
    "print(\"Decompressed string:\", decompressed)\n"
   ]
  },
  {
   "cell_type": "markdown",
   "id": "ce4d118b",
   "metadata": {},
   "source": [
    "## LZW Compression\n",
    "\n",
    "**LZW** is a lossless compression algorithm introduced by Terry Welch in 1984.  \n",
    "\n",
    "It is an improvement of LZ78.\n",
    "\n",
    "The big idea:\n",
    "\n",
    "- Build a dictionary of phrases, like LZ78.  \n",
    "- But instead of sending `(index, character)` pairs like LZ78, LZW only sends the `index` of the longest matching phrase.\n",
    "\n",
    "This means it’s even more compact than LZ78."
   ]
  },
  {
   "cell_type": "markdown",
   "id": "9e8c4892",
   "metadata": {},
   "source": [
    "**Step-by-Step How LZW Works**\n",
    "\n",
    "Initial Setup:\n",
    "\n",
    "Start with a dictionary of all single characters (like all ASCII characters).  \n",
    "Each character has a unique index.  \n",
    "We read the input left to right, building up longer phrases.  \n",
    "Output the index of the longest match seen so far.  \n",
    "Then add a new phrase to the dictionary: `previous match + next character`."
   ]
  },
  {
   "cell_type": "markdown",
   "id": "c4ffc160",
   "metadata": {},
   "source": [
    "**Example**\n",
    "\n",
    "String : `\"ABABABA\"`\n",
    "\n",
    "**Step 0:** Initial Dictionary\n",
    "\n",
    "| Index | Char |\n",
    "|-------|--------|\n",
    "|  0    | A      |\n",
    "|  1    | B      |\n",
    "\n",
    "\n",
    "We’ll add new phrases starting at index 2.\n",
    "\n",
    "**Step 1:**\n",
    "\n",
    "Current = `A`  \n",
    "Look ahead = `AB`  \n",
    "\n",
    "A is in the dictionary → match  \n",
    "AB is not in the dictionary  \n",
    "\n",
    "→ Output index of `A = 0`  \n",
    "→ Add `\"AB\"` to dictionary at `index 2`  \n",
    "\n",
    "\n",
    "**Step 2:**\n",
    "\n",
    "Current = `B`  \n",
    "Look ahead = `BA`  \n",
    "\n",
    "B is in the dictionary → match\n",
    "BA is not in the dictionary\n",
    "\n",
    "→ Output index of `B = 1`\n",
    "→ Add `\"BA\"` to dictionary at `index 3`\n",
    "\n",
    "**Step 3:**\n",
    "\n",
    "Current = `A` \n",
    "Look ahead = `AB` \n",
    "\n",
    "AB is now in the dictionary at `index 2`\n",
    "→ Keep going\n",
    "\n",
    "Look ahead = `ABA` → not in dictionary\n",
    "\n",
    "→ Output index of `\"AB\" = 2`\n",
    "→ Add `\"ABA\"` to dictionary at `index 4`\n",
    "\n",
    "**Step 4:**\n",
    "\n",
    "Current = `A`\n",
    "Look ahead = `AB` → still in dictionary\n",
    "Look ahead = `ABA` → in dictionary `(index 4)`\n",
    "→ Continue reading but end of string is reached\n",
    "\n",
    "→ Output index of `\"ABA\" = 4`\n",
    "\n",
    "Final Output: `[0, 1, 2, 4]`\n",
    "\n",
    "And the dictionary was built as:\n",
    "\n",
    "| Index | Phrase |\n",
    "|-------|--------|\n",
    "|  0    | A      |\n",
    "|  1    | B      |\n",
    "|  2    | AB     |\n",
    "|  3    | BA     |\n",
    "|  4    | ABA    |\n",
    "\n",
    "\n"
   ]
  },
  {
   "cell_type": "markdown",
   "id": "fc3f6be5",
   "metadata": {},
   "source": [
    "### LZW Compression Function"
   ]
  },
  {
   "cell_type": "code",
   "execution_count": null,
   "id": "98cc4b8f",
   "metadata": {},
   "outputs": [],
   "source": [
    "def lzw_compress(text):\n",
    "    # Initialize dictionary with single characters\n",
    "    dictionary = {chr(i): i for i in range(256)}  # ASCII characters\n",
    "    next_code = 256\n",
    "    phrase = \"\"\n",
    "    output = []\n",
    "\n",
    "    for char in text:\n",
    "        if phrase + char in dictionary:\n",
    "            phrase += char\n",
    "        else:\n",
    "            output.append(dictionary[phrase])\n",
    "            dictionary[phrase + char] = next_code\n",
    "            next_code += 1\n",
    "            phrase = char\n",
    "\n",
    "    if phrase:\n",
    "        output.append(dictionary[phrase])\n",
    "\n",
    "    return output, dictionary\n"
   ]
  },
  {
   "cell_type": "code",
   "execution_count": 59,
   "id": "4fb36980",
   "metadata": {},
   "outputs": [
    {
     "name": "stdout",
     "output_type": "stream",
     "text": [
      "Compressed output: [65, 66, 256, 258]\n",
      "\n",
      "Final dictionary entries (after 255):\n",
      "256: 'AB'\n",
      "257: 'BA'\n",
      "258: 'ABA'\n"
     ]
    }
   ],
   "source": [
    "# Run LZW on \"ABABABA\"\n",
    "text = \"ABABABA\"\n",
    "compressed, final_dict = lzw_compress(text)\n",
    "\n",
    "print(\"Compressed output:\", compressed)\n",
    "print(\"\\nFinal dictionary entries (after 255):\")\n",
    "for k, v in final_dict.items():\n",
    "    if v >= 256:\n",
    "        print(f\"{v}: '{k}'\")\n"
   ]
  },
  {
   "cell_type": "markdown",
   "id": "3ffe4b75",
   "metadata": {},
   "source": [
    "## LZ77 compression with time-series data"
   ]
  },
  {
   "cell_type": "code",
   "execution_count": 1,
   "id": "747c830f",
   "metadata": {},
   "outputs": [],
   "source": [
    "def lz77_compress_series(data, window_size=20, lookahead_buffer_size=15):\n",
    "    i = 0\n",
    "    compressed_data = []\n",
    "\n",
    "    while i < len(data):\n",
    "        match = (-1, -1)  # (offset, length)\n",
    "        for j in range(max(0, i - window_size), i):\n",
    "            length = 0\n",
    "            while (length < lookahead_buffer_size and\n",
    "                   i + length < len(data) and\n",
    "                   data[j + length] == data[i + length]):\n",
    "                length += 1\n",
    "                if j + length >= i:\n",
    "                    break\n",
    "            if length > match[1]:\n",
    "                match = (i - j, length)\n",
    "\n",
    "        if match[1] > 0:\n",
    "            next_elem = data[i + match[1]] if i + match[1] < len(data) else None\n",
    "            compressed_data.append((match[0], match[1], next_elem))\n",
    "            i += match[1] + 1\n",
    "        else:\n",
    "            compressed_data.append((0, 0, data[i]))\n",
    "            i += 1\n",
    "\n",
    "    return compressed_data\n"
   ]
  },
  {
   "cell_type": "code",
   "execution_count": 2,
   "id": "5264e35f",
   "metadata": {},
   "outputs": [],
   "source": [
    "def lz77_decompress_series(compressed_data):\n",
    "    decompressed = []\n",
    "\n",
    "    for offset, length, elem in compressed_data:\n",
    "        if offset == 0 and length == 0:\n",
    "            decompressed.append(elem)\n",
    "        else:\n",
    "            start = len(decompressed) - offset\n",
    "            for _ in range(length):\n",
    "                decompressed.append(decompressed[start])\n",
    "                start += 1\n",
    "            if elem is not None:\n",
    "                decompressed.append(elem)\n",
    "    return decompressed\n"
   ]
  },
  {
   "cell_type": "code",
   "execution_count": 12,
   "id": "d47acfcf",
   "metadata": {},
   "outputs": [
    {
     "name": "stdout",
     "output_type": "stream",
     "text": [
      "Original Time Series: [1, 2, 3, 1, 2, 3, 4, 1, 2, 3, 4, 5, 2, 3, 4, 1, 2, 3]\n",
      "\n",
      "Compressed Output:\n",
      "(0, 0, 1)\n",
      "(0, 0, 2)\n",
      "(0, 0, 3)\n",
      "(3, 3, 4)\n",
      "(4, 4, 5)\n",
      "(8, 6, None)\n",
      "\n",
      "Decompressed Time Series: [1, 2, 3, 1, 2, 3, 4, 1, 2, 3, 4, 5, 2, 3, 4, 1, 2, 3]\n"
     ]
    }
   ],
   "source": [
    "if __name__ == \"__main__\":\n",
    "    # Sample time series (toy example)\n",
    "    series = [1, 2, 3, 1, 2, 3, 4, 1, 2, 3, 4, 5, 2, 3, 4, 1, 2,3]\n",
    "    print(\"Original Time Series:\", series)\n",
    "\n",
    "    compressed = lz77_compress_series(series)\n",
    "    print(\"\\nCompressed Output:\")\n",
    "    for item in compressed:\n",
    "        print(item)\n",
    "\n",
    "    decompressed = lz77_decompress_series(compressed)\n",
    "    print(\"\\nDecompressed Time Series:\", decompressed)\n"
   ]
  },
  {
   "cell_type": "code",
   "execution_count": null,
   "id": "d76e2bfe",
   "metadata": {},
   "outputs": [],
   "source": [
    "import sys\n",
    "\n",
    "def calculate_compression_ratio(original_data, compressed_data):\n",
    "    # Estimate size in bytes: each int = 4 bytes, float = 8 bytes (approx)\n",
    "    original_size = sys.getsizeof(original_data) + sum(sys.getsizeof(x) for x in original_data)\n",
    "    compressed_size = sys.getsizeof(compressed_data) + sum(sys.getsizeof(t) for t in compressed_data)\n",
    "    ratio = original_size / compressed_size\n",
    "    rate = 1 - (compressed_size / original_size)\n",
    "    return ratio, rate\n"
   ]
  },
  {
   "cell_type": "code",
   "execution_count": 14,
   "id": "d7895366",
   "metadata": {},
   "outputs": [
    {
     "name": "stdout",
     "output_type": "stream",
     "text": [
      "\n",
      "Compression Ratio: 1.40, Compression Rate: 28.41%\n"
     ]
    }
   ],
   "source": [
    "rat, rate = calculate_compression_ratio(series, compressed)\n",
    "\n",
    "print(f\"\\nCompression Ratio: {rat:.2f}, Compression Rate: {rate:.2%}\")"
   ]
  }
 ],
 "metadata": {
  "kernelspec": {
   "display_name": "Python 3",
   "language": "python",
   "name": "python3"
  },
  "language_info": {
   "codemirror_mode": {
    "name": "ipython",
    "version": 3
   },
   "file_extension": ".py",
   "mimetype": "text/x-python",
   "name": "python",
   "nbconvert_exporter": "python",
   "pygments_lexer": "ipython3",
   "version": "3.12.6"
  }
 },
 "nbformat": 4,
 "nbformat_minor": 5
}
